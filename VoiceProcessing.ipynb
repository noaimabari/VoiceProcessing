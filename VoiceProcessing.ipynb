{
 "cells": [
  {
   "cell_type": "code",
   "execution_count": 1,
   "metadata": {},
   "outputs": [],
   "source": [
    "import IPython.display as ipd\n",
    "import librosa as lb"
   ]
  },
  {
   "cell_type": "code",
   "execution_count": 2,
   "metadata": {},
   "outputs": [],
   "source": [
    "#https://www.analyticsvidhya.com/blog/2017/08/audio-voice-processing-deep-learning/\n",
    "#https://datahack.analyticsvidhya.com/contest/practice-problem-urban-sound-classification/ \n"
   ]
  },
  {
   "cell_type": "code",
   "execution_count": 3,
   "metadata": {},
   "outputs": [],
   "source": [
    "data, sampling_rate = lb.load('C:/Users/noaim/Downloads/train/Train/0.wav')"
   ]
  },
  {
   "cell_type": "code",
   "execution_count": 4,
   "metadata": {},
   "outputs": [],
   "source": [
    "import matplotlib.pyplot as plt"
   ]
  },
  {
   "cell_type": "code",
   "execution_count": 5,
   "metadata": {},
   "outputs": [
    {
     "data": {
      "text/plain": [
       "<Figure size 864x288 with 0 Axes>"
      ]
     },
     "execution_count": 5,
     "metadata": {},
     "output_type": "execute_result"
    },
    {
     "data": {
      "text/plain": [
       "<Figure size 864x288 with 0 Axes>"
      ]
     },
     "metadata": {},
     "output_type": "display_data"
    }
   ],
   "source": [
    "plt.figure(figsize=(12, 4))"
   ]
  },
  {
   "cell_type": "code",
   "execution_count": 6,
   "metadata": {},
   "outputs": [],
   "source": [
    "from librosa import display as dp"
   ]
  },
  {
   "cell_type": "code",
   "execution_count": 7,
   "metadata": {},
   "outputs": [
    {
     "data": {
      "image/png": "[encoded data removed]",
      "text/plain": [
       "<Figure size 432x288 with 1 Axes>"
      ]
     },
     "metadata": {
      "needs_background": "light"
     },
     "output_type": "display_data"
    }
   ],
   "source": [
    "img = dp.waveplot(data, sr=sampling_rate)\n"
   ]
  },
  {
   "cell_type": "code",
   "execution_count": 8,
   "metadata": {},
   "outputs": [],
   "source": [
    "import os"
   ]
  },
  {
   "cell_type": "code",
   "execution_count": 9,
   "metadata": {},
   "outputs": [],
   "source": [
    "import pandas as pd\n",
    "import glob\n",
    "import numpy as np"
   ]
  },
  {
   "cell_type": "code",
   "execution_count": null,
   "metadata": {},
   "outputs": [],
   "source": []
  },
  {
   "cell_type": "code",
   "execution_count": 10,
   "metadata": {},
   "outputs": [],
   "source": [
    "train_labels = pd.read_csv(\"C:/Users/noaim/Downloads/train/train.csv\")\n",
    "y_train = np.array(train_labels[\"Class\"])"
   ]
  },
  {
   "cell_type": "code",
   "execution_count": null,
   "metadata": {},
   "outputs": [],
   "source": []
  },
  {
   "cell_type": "code",
   "execution_count": 11,
   "metadata": {},
   "outputs": [],
   "source": [
    "y = []\n",
    "x = []\n",
    "dir_path = \"C:/Users/noaim/Downloads/train/Train/\" \n",
    "for i in range(len(train_labels)):\n",
    "    y.append(train_labels[\"Class\"][i]) ## label\n",
    "    file_name = dir_path + str(train_labels[\"ID\"][i]) + \".wav\"\n",
    "    data, sampling_rate = lb.load(file_name, res_type='kaiser_fast')\n",
    "    mfccs = np.mean(lb.feature.mfcc(y=data, sr=sampling_rate, n_mfcc=40).T,axis=0) ## feature\n",
    "    x.append(mfccs)"
   ]
  },
  {
   "cell_type": "code",
   "execution_count": 12,
   "metadata": {},
   "outputs": [],
   "source": [
    "x = np.array(x)\n",
    "y = np.array(y)"
   ]
  },
  {
   "cell_type": "code",
   "execution_count": 13,
   "metadata": {},
   "outputs": [
    {
     "data": {
      "text/plain": [
       "((5435, 40), (5435,))"
      ]
     },
     "execution_count": 13,
     "metadata": {},
     "output_type": "execute_result"
    }
   ],
   "source": [
    "x.shape, y.shape"
   ]
  },
  {
   "cell_type": "code",
   "execution_count": 14,
   "metadata": {},
   "outputs": [],
   "source": [
    "from sklearn.preprocessing import LabelEncoder"
   ]
  },
  {
   "cell_type": "code",
   "execution_count": 15,
   "metadata": {},
   "outputs": [],
   "source": [
    "l = LabelEncoder()"
   ]
  },
  {
   "cell_type": "code",
   "execution_count": 16,
   "metadata": {},
   "outputs": [
    {
     "name": "stderr",
     "output_type": "stream",
     "text": [
      "Using TensorFlow backend.\n"
     ]
    }
   ],
   "source": [
    "from keras.utils.np_utils import to_categorical\n",
    "y = to_categorical(l.fit_transform(y))"
   ]
  },
  {
   "cell_type": "code",
   "execution_count": 17,
   "metadata": {},
   "outputs": [
    {
     "data": {
      "text/plain": [
       "((5435, 40), (5435, 10))"
      ]
     },
     "execution_count": 17,
     "metadata": {},
     "output_type": "execute_result"
    }
   ],
   "source": [
    "x.shape, y.shape"
   ]
  },
  {
   "cell_type": "code",
   "execution_count": null,
   "metadata": {},
   "outputs": [],
   "source": []
  },
  {
   "cell_type": "code",
   "execution_count": 18,
   "metadata": {},
   "outputs": [],
   "source": [
    "import keras \n",
    "from keras.models import Sequential\n",
    "from keras.layers import Dense, Dropout"
   ]
  },
  {
   "cell_type": "code",
   "execution_count": 19,
   "metadata": {},
   "outputs": [],
   "source": [
    "model = Sequential()"
   ]
  },
  {
   "cell_type": "code",
   "execution_count": 20,
   "metadata": {},
   "outputs": [
    {
     "name": "stdout",
     "output_type": "stream",
     "text": [
      "WARNING:tensorflow:From c:\\users\\noaim\\appdata\\local\\programs\\python\\python37\\lib\\site-packages\\tensorflow_core\\python\\ops\\resource_variable_ops.py:1630: calling BaseResourceVariable.__init__ (from tensorflow.python.ops.resource_variable_ops) with constraint is deprecated and will be removed in a future version.\n",
      "Instructions for updating:\n",
      "If using Keras pass *_constraint arguments to layers.\n"
     ]
    }
   ],
   "source": [
    "model.add(Dense(units = 32, activation = \"relu\", input_shape = (40,)))"
   ]
  },
  {
   "cell_type": "code",
   "execution_count": 21,
   "metadata": {},
   "outputs": [],
   "source": [
    "model.add(Dense(units = 10, activation = \"relu\"))"
   ]
  },
  {
   "cell_type": "code",
   "execution_count": 22,
   "metadata": {},
   "outputs": [],
   "source": [
    "model.add(Dense(units = 10, activation = \"softmax\"))"
   ]
  },
  {
   "cell_type": "code",
   "execution_count": 23,
   "metadata": {},
   "outputs": [],
   "source": [
    "model.add(Dropout(0.3))"
   ]
  },
  {
   "cell_type": "code",
   "execution_count": 24,
   "metadata": {},
   "outputs": [],
   "source": [
    "model.compile(loss = \"categorical_crossentropy\", optimizer = \"adam\", metrics = [\"accuracy\"])"
   ]
  },
  {
   "cell_type": "code",
   "execution_count": 25,
   "metadata": {},
   "outputs": [
    {
     "name": "stdout",
     "output_type": "stream",
     "text": [
      "WARNING:tensorflow:From c:\\users\\noaim\\appdata\\local\\programs\\python\\python37\\lib\\site-packages\\tensorflow_core\\python\\ops\\math_grad.py:1424: where (from tensorflow.python.ops.array_ops) is deprecated and will be removed in a future version.\n",
      "Instructions for updating:\n",
      "Use tf.where in 2.0, which has the same broadcast rule as np.where\n",
      "WARNING:tensorflow:From c:\\users\\noaim\\appdata\\local\\programs\\python\\python37\\lib\\site-packages\\keras\\backend\\tensorflow_backend.py:422: The name tf.global_variables is deprecated. Please use tf.compat.v1.global_variables instead.\n",
      "\n",
      "Epoch 1/50\n",
      "5435/5435 [==============================] - 1s 143us/step - loss: 7.7524 - accuracy: 0.1236\n",
      "Epoch 2/50\n",
      "5435/5435 [==============================] - 0s 85us/step - loss: 6.2173 - accuracy: 0.1295\n",
      "Epoch 3/50\n",
      "5435/5435 [==============================] - 0s 78us/step - loss: 6.1661 - accuracy: 0.1523\n",
      "Epoch 4/50\n",
      "5435/5435 [==============================] - 0s 80us/step - loss: 5.9588 - accuracy: 0.1943\n",
      "Epoch 5/50\n",
      "5435/5435 [==============================] - 0s 79us/step - loss: 5.8967 - accuracy: 0.2050\n",
      "Epoch 6/50\n",
      "5435/5435 [==============================] - 0s 83us/step - loss: 5.9549 - accuracy: 0.2248\n",
      "Epoch 7/50\n",
      "5435/5435 [==============================] - 0s 81us/step - loss: 5.9830 - accuracy: 0.2423\n",
      "Epoch 8/50\n",
      "5435/5435 [==============================] - 0s 79us/step - loss: 5.9339 - accuracy: 0.2574\n",
      "Epoch 9/50\n",
      "5435/5435 [==============================] - 0s 79us/step - loss: 6.0209 - accuracy: 0.2679\n",
      "Epoch 10/50\n",
      "5435/5435 [==============================] - 0s 80us/step - loss: 5.8362 - accuracy: 0.2833\n",
      "Epoch 11/50\n",
      "5435/5435 [==============================] - 0s 81us/step - loss: 5.7205 - accuracy: 0.3008\n",
      "Epoch 12/50\n",
      "5435/5435 [==============================] - 0s 82us/step - loss: 5.8066 - accuracy: 0.3089\n",
      "Epoch 13/50\n",
      "5435/5435 [==============================] - 0s 81us/step - loss: 5.9511 - accuracy: 0.3242\n",
      "Epoch 14/50\n",
      "5435/5435 [==============================] - 0s 79us/step - loss: 5.8903 - accuracy: 0.3385\n",
      "Epoch 15/50\n",
      "5435/5435 [==============================] - 0s 82us/step - loss: 5.8122 - accuracy: 0.3470\n",
      "Epoch 16/50\n",
      "5435/5435 [==============================] - 0s 86us/step - loss: 5.7847 - accuracy: 0.3580\n",
      "Epoch 17/50\n",
      "5435/5435 [==============================] - 0s 78us/step - loss: 5.7637 - accuracy: 0.3671\n",
      "Epoch 18/50\n",
      "5435/5435 [==============================] - 0s 78us/step - loss: 5.8604 - accuracy: 0.3693\n",
      "Epoch 19/50\n",
      "5435/5435 [==============================] - 0s 79us/step - loss: 5.4776 - accuracy: 0.4077\n",
      "Epoch 20/50\n",
      "5435/5435 [==============================] - 0s 81us/step - loss: 5.4327 - accuracy: 0.4120\n",
      "Epoch 21/50\n",
      "5435/5435 [==============================] - 0s 78us/step - loss: 5.4704 - accuracy: 0.4090\n",
      "Epoch 22/50\n",
      "5435/5435 [==============================] - 0s 79us/step - loss: 5.6477 - accuracy: 0.4101\n",
      "Epoch 23/50\n",
      "5435/5435 [==============================] - 0s 80us/step - loss: 5.6024 - accuracy: 0.4118\n",
      "Epoch 24/50\n",
      "5435/5435 [==============================] - 0s 81us/step - loss: 5.6647 - accuracy: 0.4221\n",
      "Epoch 25/50\n",
      "5435/5435 [==============================] - 0s 79us/step - loss: 5.4850 - accuracy: 0.4326\n",
      "Epoch 26/50\n",
      "5435/5435 [==============================] - 0s 79us/step - loss: 5.4829 - accuracy: 0.4350\n",
      "Epoch 27/50\n",
      "5435/5435 [==============================] - 0s 80us/step - loss: 5.4976 - accuracy: 0.4370\n",
      "Epoch 28/50\n",
      "5435/5435 [==============================] - 0s 78us/step - loss: 5.6051 - accuracy: 0.4408\n",
      "Epoch 29/50\n",
      "5435/5435 [==============================] - 0s 79us/step - loss: 5.5336 - accuracy: 0.4475\n",
      "Epoch 30/50\n",
      "5435/5435 [==============================] - 0s 78us/step - loss: 5.5509 - accuracy: 0.4557\n",
      "Epoch 31/50\n",
      "5435/5435 [==============================] - 0s 78us/step - loss: 5.5376 - accuracy: 0.4523\n",
      "Epoch 32/50\n",
      "5435/5435 [==============================] - 0s 79us/step - loss: 5.5098 - accuracy: 0.4620\n",
      "Epoch 33/50\n",
      "5435/5435 [==============================] - 0s 81us/step - loss: 5.6433 - accuracy: 0.4699\n",
      "Epoch 34/50\n",
      "5435/5435 [==============================] - 0s 91us/step - loss: 5.3996 - accuracy: 0.4780\n",
      "Epoch 35/50\n",
      "5435/5435 [==============================] - 0s 89us/step - loss: 5.5124 - accuracy: 0.4856\n",
      "Epoch 36/50\n",
      "5435/5435 [==============================] - 0s 88us/step - loss: 5.4428 - accuracy: 0.4951\n",
      "Epoch 37/50\n",
      "5435/5435 [==============================] - 0s 81us/step - loss: 5.3537 - accuracy: 0.4944\n",
      "Epoch 38/50\n",
      "5435/5435 [==============================] - 0s 78us/step - loss: 5.4511 - accuracy: 0.4979\n",
      "Epoch 39/50\n",
      "5435/5435 [==============================] - 0s 83us/step - loss: 5.5854 - accuracy: 0.4984\n",
      "Epoch 40/50\n",
      "5435/5435 [==============================] - 0s 79us/step - loss: 5.4903 - accuracy: 0.4948\n",
      "Epoch 41/50\n",
      "5435/5435 [==============================] - 0s 78us/step - loss: 5.5428 - accuracy: 0.4994\n",
      "Epoch 42/50\n",
      "5435/5435 [==============================] - 0s 79us/step - loss: 5.2078 - accuracy: 0.5198\n",
      "Epoch 43/50\n",
      "5435/5435 [==============================] - 0s 78us/step - loss: 5.4771 - accuracy: 0.5049\n",
      "Epoch 44/50\n",
      "5435/5435 [==============================] - 0s 78us/step - loss: 5.4679 - accuracy: 0.5106\n",
      "Epoch 45/50\n",
      "5435/5435 [==============================] - 0s 79us/step - loss: 5.3067 - accuracy: 0.5146\n",
      "Epoch 46/50\n",
      "5435/5435 [==============================] - 0s 83us/step - loss: 5.4645 - accuracy: 0.5159\n",
      "Epoch 47/50\n",
      "5435/5435 [==============================] - 0s 79us/step - loss: 5.3883 - accuracy: 0.5155\n",
      "Epoch 48/50\n",
      "5435/5435 [==============================] - 0s 78us/step - loss: 5.2342 - accuracy: 0.5255\n",
      "Epoch 49/50\n",
      "5435/5435 [==============================] - 0s 79us/step - loss: 5.3629 - accuracy: 0.5270\n",
      "Epoch 50/50\n",
      "5435/5435 [==============================] - 0s 85us/step - loss: 5.5177 - accuracy: 0.5078\n"
     ]
    },
    {
     "data": {
      "text/plain": [
       "<keras.callbacks.callbacks.History at 0x137df1d24a8>"
      ]
     },
     "execution_count": 25,
     "metadata": {},
     "output_type": "execute_result"
    }
   ],
   "source": [
    "model.fit(x, y, batch_size = 30, epochs = 50)"
   ]
  },
  {
   "cell_type": "code",
   "execution_count": null,
   "metadata": {},
   "outputs": [],
   "source": []
  },
  {
   "cell_type": "code",
   "execution_count": null,
   "metadata": {},
   "outputs": [],
   "source": []
  }
 ],
 "metadata": {
  "kernelspec": {
   "display_name": "Python 3",
   "language": "python",
   "name": "python3"
  },
  "language_info": {
   "codemirror_mode": {
    "name": "ipython",
    "version": 3
   },
   "file_extension": ".py",
   "mimetype": "text/x-python",
   "name": "python",
   "nbconvert_exporter": "python",
   "pygments_lexer": "ipython3",
   "version": "3.7.3"
  }
 },
 "nbformat": 4,
 "nbformat_minor": 4
}
